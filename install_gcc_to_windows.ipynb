{
 "cells": [
  {
   "cell_type": "markdown",
   "metadata": {},
   "source": [
    "### GCCをWindowsへインストールするぞ\n",
    "---\n",
    "\n",
    "PyStanの公式にはAnacondaを使えって書いてあるけど、純粋に使いたくない"
   ]
  },
  {
   "cell_type": "markdown",
   "metadata": {},
   "source": [
    "#### PyStan の解説ページ\n",
    "---\n",
    "\n",
    "https://pystan.readthedocs.io/en/latest/windows.html#windows"
   ]
  },
  {
   "cell_type": "markdown",
   "metadata": {},
   "source": [
    "#### 1. windowsへ MinGW-w64 をインストール\n",
    "---\n",
    "\n",
    "参考サイト  \n",
    "https://qiita.com/yut-nagase/items/9bb65481685f6b8002de  \n",
    "  \n",
    "インストール先の.batファイルを参考にして、Pathを通しておく  \n",
    "  \n",
    "上記サイトとのオプション設定の違いは下記の通り  \n",
    "\n",
    "* Architecture: x86_64\n",
    "* Exception: seh\n",
    "\n",
    "  \n",
    "最終的に↓をパスに通す感じになるはず  \n",
    "C:\\Program Files\\mingw-w64\\x86_64-8.1.0-posix-seh-rt_v6-rev0\\mingw64\\bin"
   ]
  },
  {
   "cell_type": "markdown",
   "metadata": {},
   "source": [
    "#### 2. distutils で 使用するコンパイラを設定\n",
    "---\n",
    "\n",
    "参考サイト  \n",
    "https://qiita.com/nocd5/items/a6db920dc86a41b6625d  \n",
    "  \n",
    "distutils の場所の調べ方  \n",
    "venvでやるときは、作った仮想環境のパスではなく、  \n",
    "参照元にしているオリジナルのPython置き場になる\n",
    "\n",
    "```\n",
    ">>> import distutils\n",
    ">>> print(distutils . __file__)\n",
    "```\n",
    "\n",
    "PythonをコンパイルしたMSVCのバージョン次第で、distutilsが機能しないので、  \n",
    "~/Lib/ditutils/cygwinccompiler.py を手動パッチ当てする  \n",
    "  \n",
    "参考サイト  \n",
    "https://stackoverflow.com/questions/34135280/valueerror-unknown-ms-compiler-version-1900/34427014"
   ]
  },
  {
   "cell_type": "markdown",
   "metadata": {},
   "source": [
    "#### なんかそのままだと引数が足りないらしい\n",
    "---\n",
    "\n",
    "理由もよく分かってないけど、デフォルトのままだと何かの参照に失敗するらしい  \n",
    "PyStanではなく、MinGwを使ったコンパイル自体に失敗しているっぽい\n",
    "  \n",
    "mingwでのリンクエラーについて  \n",
    "https://teratail.com/questions/83914"
   ]
  },
  {
   "cell_type": "markdown",
   "metadata": {},
   "source": [
    "#### gcc.exe の実行に対して、-DMS_WIN64 を引数として追加\n",
    "---\n",
    "\n",
    "↑のサンプルコードを動かしながらログを見るなどしてみた結果、  \n",
    "gcc.exe の実行へ -DMS_WIN64 を追加するとなんとかなるっぽい\n",
    "  \n",
    "cpython to pyd binary - \"long\" converted to \"int\" badly before shift / division operator  \n",
    "https://github.com/cython/cython/issues/2670#issuecomment-432212671"
   ]
  },
  {
   "cell_type": "markdown",
   "metadata": {},
   "source": [
    "#### デフォルト設定にする方法がわからん\n",
    "---\n",
    "\n",
    "とりあえず、pystanなら、↓のように呼べばなんとかなるけど...  \n",
    "\n",
    "```sm = pystan.StanModel(model_code=model, verbose=False, extra_compile_args=[\"-DMS_WIN64\"])```"
   ]
  },
  {
   "cell_type": "markdown",
   "metadata": {},
   "source": [
    "#### デフォルト設定にしたければ、distutils を手動で修正しろって書いてある\n",
    "---\n",
    "\n",
    "https://groups.google.com/forum/#!topic/cython-users/LBeFrAypd2E\n",
    "\n",
    "```\n",
    "Find_And_replace in \"..\\Lib\\distutils\\cygwinccompiler.py\"\n",
    "this\n",
    "\"-O -W\"\n",
    "per that\n",
    "\"-O -DMS_WIN64 -W\"\n",
    "```"
   ]
  },
  {
   "cell_type": "markdown",
   "metadata": {},
   "source": [
    "#### 32bit じゃないけどいいか一抹の心配\n",
    "---\n",
    "\n",
    "設定ファイルにも ```compiler=mingw32``` とか書きこんでるし、  \n",
    "実際は64bit版使ってるけど大丈夫かわずかに気になる  \n",
    "公式にはMinGW 64bit でインスコしろって書いてあるからいいか"
   ]
  },
  {
   "cell_type": "code",
   "execution_count": null,
   "metadata": {},
   "outputs": [],
   "source": []
  }
 ],
 "metadata": {
  "kernelspec": {
   "display_name": "Python 3",
   "language": "python",
   "name": "python3"
  },
  "language_info": {
   "codemirror_mode": {
    "name": "ipython",
    "version": 3
   },
   "file_extension": ".py",
   "mimetype": "text/x-python",
   "name": "python",
   "nbconvert_exporter": "python",
   "pygments_lexer": "ipython3",
   "version": "3.6.7"
  }
 },
 "nbformat": 4,
 "nbformat_minor": 2
}
